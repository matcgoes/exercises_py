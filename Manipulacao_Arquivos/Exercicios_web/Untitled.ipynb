{
 "cells": [
  {
   "cell_type": "code",
   "execution_count": 6,
   "metadata": {},
   "outputs": [],
   "source": [
    "from tabulate import tabulate"
   ]
  },
  {
   "cell_type": "code",
   "execution_count": 7,
   "metadata": {},
   "outputs": [],
   "source": [
    "def convertToMb(valbyte):\n",
    "    return round(valbyte/1048576,2)\n",
    "\n",
    "def percentageUsage(valbyte,totalspace):\n",
    "    return str(round(100*valbyte/totalspace,2))+\"%\""
   ]
  },
  {
   "cell_type": "code",
   "execution_count": 8,
   "metadata": {},
   "outputs": [],
   "source": [
    "f = open(\"usuarios.txt\",\"r\")\n",
    "totallist = []\n",
    "datalist = f.read().split()\n",
    "sizelist = list(map(int,datalist[1::2]))\n",
    "namelist = datalist[0::2]\n",
    "for i in range(len(sizelist)):\n",
    "    totallist.append([namelist[i],convertToMb(sizelist[i]),percentageUsage(sizelist[i],sum(sizelist))])\n",
    "f.close()"
   ]
  },
  {
   "cell_type": "code",
   "execution_count": 9,
   "metadata": {},
   "outputs": [],
   "source": [
    "headline = \"ACME Inc.\"+15*\" \"+\"Uso do espaço em disco pelos usuários\\n\"+80*\"-\"+\"\\n\""
   ]
  },
  {
   "cell_type": "code",
   "execution_count": 10,
   "metadata": {},
   "outputs": [],
   "source": [
    "### Estudando as variáveis"
   ]
  },
  {
   "cell_type": "code",
   "execution_count": 11,
   "metadata": {},
   "outputs": [],
   "source": [
    "with open(\"report.txt\",\"w\") as report:\n",
    "    report.write(headline+\"\\n\")   \n",
    "    report.write(tabulate(totallist, headers=['User', 'Size', '% Usage'],tablefmt='orgtbl')+\"\\n\")\n",
    "    report.write(\"\\nDisk Usage Space: \"+str(round(convertToMb(sum(sizelist)),2))+\" MB\")\n",
    "    report.write(\"\\nAverage Disk Usage: \"+str(round(convertToMb(sum(sizelist)/len(sizelist)),2))+\" MB\")"
   ]
  }
 ],
 "metadata": {
  "kernelspec": {
   "display_name": "Python 3",
   "language": "python",
   "name": "python3"
  },
  "language_info": {
   "codemirror_mode": {
    "name": "ipython",
    "version": 3
   },
   "file_extension": ".py",
   "mimetype": "text/x-python",
   "name": "python",
   "nbconvert_exporter": "python",
   "pygments_lexer": "ipython3",
   "version": "3.7.1"
  }
 },
 "nbformat": 4,
 "nbformat_minor": 2
}
